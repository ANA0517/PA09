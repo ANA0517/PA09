{
  "nbformat": 4,
  "nbformat_minor": 0,
  "metadata": {
    "colab": {
      "name": "ch3_exercises_pa09.ipynb",
      "provenance": [],
      "collapsed_sections": []
    },
    "kernelspec": {
      "name": "python3",
      "display_name": "Python 3"
    }
  },
  "cells": [
    {
      "cell_type": "markdown",
      "metadata": {
        "id": "ovY5jkD5dpxE"
      },
      "source": [
        "## ch3-exercises_pa09.ipynb"
      ]
    },
    {
      "cell_type": "markdown",
      "metadata": {
        "id": "SZw6UnxQWYBe"
      },
      "source": [
        "## Q1.\n",
        "> 다음 코드의 결괏값은 무엇일까?\n",
        "\n",
        "```\n",
        "a = \"Life is too short, you need python\"\n",
        "if \"wife\" in a: print(\"wife\")\n",
        "elif \"python\" in a and \"you\" not in a: print(\"python\")\n",
        "elif \"shirt\" not in a: print(\"shirt\")\n",
        "elif \"need\" in a: print(\"need\")\n",
        "else: print(\"none\")\n",
        "\n",
        "```"
      ]
    },
    {
      "cell_type": "code",
      "metadata": {
        "id": "rUNNaqJPdg7B",
        "colab": {
          "base_uri": "https://localhost:8080/"
        },
        "outputId": "0047200f-5c8c-49e9-fd3b-5c116aa39ad1"
      },
      "source": [
        "# [Q1] Code  \n",
        "\n",
        "a = \"Life is too short, you need python\"\n",
        "if \"wife\" in a: print(\"wife\")\n",
        "elif \"python\" in a and \"you\" not in a: print(\"python\")\n",
        "elif \"shirt\" not in a: print(\"shirt\")\n",
        "elif \"need\" in a: print(\"need\")\n",
        "else: print(\"none\")\n",
        "\n",
        "print(\"shirt 가 출력된다.\")"
      ],
      "execution_count": null,
      "outputs": [
        {
          "output_type": "stream",
          "text": [
            "shirt\n",
            "shirt 가 출력된다.\n"
          ],
          "name": "stdout"
        }
      ]
    },
    {
      "cell_type": "markdown",
      "metadata": {
        "id": "re2-XrUYXF1m"
      },
      "source": [
        "## Q2.\n",
        "> while문을 사용해 1부터 1000까지의 자연수 중 3의 배수의 합을 구해 보자.\n"
      ]
    },
    {
      "cell_type": "code",
      "metadata": {
        "id": "5MBLUZ5WXF1q",
        "colab": {
          "base_uri": "https://localhost:8080/"
        },
        "outputId": "16254e0d-eba0-4f23-8a55-ac6ed47920af"
      },
      "source": [
        "# [Q2] Code\n",
        "\n",
        "result = 0\n",
        "i = 1\n",
        "while i <= 1000:\n",
        "    if i % 3 == 0: # 3으로 나누어 떨어지는 수는 3의 배수\n",
        "        result += i\n",
        "    i += 1\n",
        "\n",
        "print(result) # 166833 출력"
      ],
      "execution_count": null,
      "outputs": [
        {
          "output_type": "stream",
          "text": [
            "166833\n"
          ],
          "name": "stdout"
        }
      ]
    },
    {
      "cell_type": "markdown",
      "metadata": {
        "id": "UZy8lu_BXGnT"
      },
      "source": [
        "## Q3.\n",
        "> while문을 사용하여 다음과 같이 별(*)을 표시하는 프로그램을 작성해 보자.\n",
        "\n",
        "```\n",
        "*\n",
        "**\n",
        "***\n",
        "****\n",
        "*****\n",
        "\n",
        "```\n"
      ]
    },
    {
      "cell_type": "code",
      "metadata": {
        "id": "H9T_sXHzXGnW",
        "colab": {
          "base_uri": "https://localhost:8080/"
        },
        "outputId": "e4322b3f-5031-40c5-f544-23cd3ba9964f"
      },
      "source": [
        "# [Q3] Code\n",
        "\n",
        "i = 0\n",
        "while True:\n",
        "    i += 1 # while문 수행 시 1씩 증가\n",
        "    if i > 5: break     # i 값이 5보다 크면 while문을 벗어난다.\n",
        "    print ('*' * i)     # i 값 개수만큼 *를 출력한다."
      ],
      "execution_count": null,
      "outputs": [
        {
          "output_type": "stream",
          "text": [
            "*\n",
            "**\n",
            "***\n",
            "****\n",
            "*****\n"
          ],
          "name": "stdout"
        }
      ]
    },
    {
      "cell_type": "markdown",
      "metadata": {
        "id": "fqypxxqTXHY7"
      },
      "source": [
        "## Q4.\n",
        "> for문을 사용해 1부터 100까지의 숫자를 출력해 보자.\n",
        "- 단순 for문 사용\n",
        "- 리스트 내포 사용"
      ]
    },
    {
      "cell_type": "code",
      "metadata": {
        "id": "oQ5UnmayXHY-",
        "colab": {
          "base_uri": "https://localhost:8080/"
        },
        "outputId": "f93ef175-ce54-4a4c-b5f3-9c8da97a344e"
      },
      "source": [
        "# [Q4] Code\n",
        "\n",
        "Num =[1] \n",
        "result = [Num + 1 for Num in range(100)]\n",
        "\n",
        "for i in result:\n",
        "  print(i);"
      ],
      "execution_count": null,
      "outputs": [
        {
          "output_type": "stream",
          "text": [
            "1\n",
            "2\n",
            "3\n",
            "4\n",
            "5\n",
            "6\n",
            "7\n",
            "8\n",
            "9\n",
            "10\n",
            "11\n",
            "12\n",
            "13\n",
            "14\n",
            "15\n",
            "16\n",
            "17\n",
            "18\n",
            "19\n",
            "20\n",
            "21\n",
            "22\n",
            "23\n",
            "24\n",
            "25\n",
            "26\n",
            "27\n",
            "28\n",
            "29\n",
            "30\n",
            "31\n",
            "32\n",
            "33\n",
            "34\n",
            "35\n",
            "36\n",
            "37\n",
            "38\n",
            "39\n",
            "40\n",
            "41\n",
            "42\n",
            "43\n",
            "44\n",
            "45\n",
            "46\n",
            "47\n",
            "48\n",
            "49\n",
            "50\n",
            "51\n",
            "52\n",
            "53\n",
            "54\n",
            "55\n",
            "56\n",
            "57\n",
            "58\n",
            "59\n",
            "60\n",
            "61\n",
            "62\n",
            "63\n",
            "64\n",
            "65\n",
            "66\n",
            "67\n",
            "68\n",
            "69\n",
            "70\n",
            "71\n",
            "72\n",
            "73\n",
            "74\n",
            "75\n",
            "76\n",
            "77\n",
            "78\n",
            "79\n",
            "80\n",
            "81\n",
            "82\n",
            "83\n",
            "84\n",
            "85\n",
            "86\n",
            "87\n",
            "88\n",
            "89\n",
            "90\n",
            "91\n",
            "92\n",
            "93\n",
            "94\n",
            "95\n",
            "96\n",
            "97\n",
            "98\n",
            "99\n",
            "100\n"
          ],
          "name": "stdout"
        }
      ]
    },
    {
      "cell_type": "markdown",
      "metadata": {
        "id": "NKsvciXZXIL-"
      },
      "source": [
        "## Q5.\n",
        "> A 학급에 총 10명의 학생이 있다. 이 학생들의 중간고사 점수는 다음과 같다.\n",
        "\n",
        "- [70, 60, 55, 75, 95, 90, 80, 80, 85, 100]\n",
        "\n",
        "- for문을 사용하여 A 학급의 평균 점수를 구해 보자."
      ]
    },
    {
      "cell_type": "code",
      "metadata": {
        "id": "5MZQYOVjXIL_",
        "colab": {
          "base_uri": "https://localhost:8080/"
        },
        "outputId": "1bef4f53-5d71-487e-87da-2925931d5a7b"
      },
      "source": [
        "# [Q5] Code\n",
        "\n",
        "A = [70, 60, 55, 75, 95, 90, 80, 80, 85, 100]\n",
        "total = 0\n",
        "\n",
        "for score in A:\n",
        "    total += score   # A학급의 점수를 모두 더한다.\n",
        "\n",
        "average = total / len(A) # 평균을 구하기 위해 총 점수를 총 학생수로 나눈다.\n",
        "print(average) # 평균 79.0이 출력된다."
      ],
      "execution_count": null,
      "outputs": [
        {
          "output_type": "stream",
          "text": [
            "79.0\n"
          ],
          "name": "stdout"
        }
      ]
    },
    {
      "cell_type": "markdown",
      "metadata": {
        "id": "-3KHtOOoXJBV"
      },
      "source": [
        "## Q6.\n",
        "> 리스트 중에서 홀수에만 2를 곱하여 저장하는 다음 코드가 있다.\n",
        "```\n",
        "numbers = [1, 2, 3, 4, 5, 6, 7, 8, 9]\n",
        "result = []\n",
        "for n in numbers:\n",
        "    if n % 2 == 1:\n",
        "        result.append(n*2)\n",
        "```\n",
        "\n",
        "- 위 코드를 리스트 내포(list comprehension)를 사용하여 표현해 보자."
      ]
    },
    {
      "cell_type": "code",
      "metadata": {
        "id": "AjYR0lUaXJBa",
        "colab": {
          "base_uri": "https://localhost:8080/"
        },
        "outputId": "00170c73-ada8-4e31-fc4c-370baa188730"
      },
      "source": [
        "# [Q6] Code\n",
        "\n",
        "numbers = [1, 2, 3, 4, 5]\n",
        "result = [n*2 for n in numbers if n%2==1]\n",
        "print(result)\n",
        "[2, 6, 10]"
      ],
      "execution_count": null,
      "outputs": [
        {
          "output_type": "stream",
          "text": [
            "[2, 6, 10]\n"
          ],
          "name": "stdout"
        },
        {
          "output_type": "execute_result",
          "data": {
            "text/plain": [
              "[2, 6, 10]"
            ]
          },
          "metadata": {
            "tags": []
          },
          "execution_count": 7
        }
      ]
    },
    {
      "cell_type": "markdown",
      "metadata": {
        "id": "YrS3b88QbmKo"
      },
      "source": [
        "## Q7.\n",
        "> ## [Challenge] 응용 코드 : 평균 성적을 구하시오.\n",
        "```\n",
        "subjects = ['파이썬', '영어', '수학', '물리']\n",
        "scores = [91, 67, 88, 75]\n",
        "```\n",
        "\n",
        "- 평균 성적을 세가지 이상의 방법으로 구하시오."
      ]
    },
    {
      "cell_type": "code",
      "metadata": {
        "id": "Ll_2InMWbmKq",
        "colab": {
          "base_uri": "https://localhost:8080/"
        },
        "outputId": "3ad4ab70-3e16-4325-d6a9-c3841ec8ee2e"
      },
      "source": [
        "# [Q7] Code-1\n",
        "subjects = ['파이썬', '영어', '수학', '물리']\n",
        "scores = [91, 67, 88, 75]\n",
        "\n",
        "print(\"\\n평균 : \" + str(sum(scores, 0.0) / len(scores)))"
      ],
      "execution_count": null,
      "outputs": [
        {
          "output_type": "stream",
          "text": [
            "\n",
            "평균 : 80.25\n"
          ],
          "name": "stdout"
        }
      ]
    },
    {
      "cell_type": "code",
      "metadata": {
        "id": "1Yl74HZQcWkw",
        "colab": {
          "base_uri": "https://localhost:8080/"
        },
        "outputId": "2417e720-3c0d-4fe5-e361-a0e5dfd9aa15"
      },
      "source": [
        "# [Q7] Code-2\n",
        "\n",
        "subjects = ['파이썬', '영어', '수학', '물리']\n",
        "scores = [91, 67, 88, 75]\n",
        "\n",
        "a = 0\n",
        "sum = 0\n",
        "while a < len(scores):\n",
        "  sum += scores[a]\n",
        "  a += 1\n",
        "\n",
        "print(sum)\n",
        "print(len(scores))\n",
        "\n",
        "print(\"\\n평균 : \" + str(sum / len(scores)))"
      ],
      "execution_count": null,
      "outputs": [
        {
          "output_type": "stream",
          "text": [
            "321\n",
            "4\n",
            "\n",
            "평균 : 80.25\n"
          ],
          "name": "stdout"
        }
      ]
    },
    {
      "cell_type": "code",
      "metadata": {
        "id": "POKZZo1KcW0Q",
        "colab": {
          "base_uri": "https://localhost:8080/"
        },
        "outputId": "f094027f-26db-468e-9f97-7cd69ede8ae6"
      },
      "source": [
        "# [Q7] Code-3\n",
        "# range() 사용\n",
        "scores = [91, 67, 88, 75]\n",
        "\n",
        "def average(scores):\n",
        "  num = 0\n",
        "  for i in range(len(scores)):\n",
        "    num = num + scores[i]\n",
        "  return (num)/len(scores)\n",
        "\n",
        "print(\"평균값 : {}\".format(average(scores)));"
      ],
      "execution_count": null,
      "outputs": [
        {
          "output_type": "stream",
          "text": [
            "평균값 : 80.25\n"
          ],
          "name": "stdout"
        }
      ]
    },
    {
      "cell_type": "code",
      "metadata": {
        "id": "Se1e3XrrJYOu",
        "colab": {
          "base_uri": "https://localhost:8080/"
        },
        "outputId": "24e1a1ee-325d-467c-fef4-05725136370c"
      },
      "source": [
        "# [Q7] code-4\n",
        "# 성적을 입력하여 평균 구하기\n",
        "\n",
        "def ok(py, en, ma, ph):\n",
        "    calc = py+en+ma+ph\n",
        "    mean = calc /4\n",
        "    result = round(mean,2)\n",
        "\n",
        "    print(\" \")\n",
        "    print(\"************************\")\n",
        "    print(\"# 입력과목 성적\")\n",
        "    print(\" \")\n",
        "    print(\" - 파이썬 성적 : \", py)\n",
        "    print(\" - 영어 성적 : \", en)\n",
        "    print(\" - 수학 성적 : \", ma)\n",
        "    print(\" - 물리 성적 : \", ph)\n",
        "    print(\"************************\")\n",
        "    print(\" \")\n",
        "\n",
        "    print(\"************************\")\n",
        "    print(\"# 결과\")\n",
        "    print(\" - 총점 : \", calc)\n",
        "    print(\" - 평균 : \", result)\n",
        "    print(\"************************\")\n",
        "\n",
        "def no(py, en, ma, ph):\n",
        "    print(\" \")\n",
        "    print(\"************************\")\n",
        "    print(\"# 입력과목 성적\")\n",
        "    print(\" \")\n",
        "    print(\" - 파이썬 성적 : \", py)\n",
        "    print(\" - 영어 성적 : \", en)\n",
        "    print(\" - 수학 성적 : \", ma)\n",
        "    print(\" - 물리 성적 : \", ph)\n",
        "    print(\"************************\")\n",
        "    print(\" \")\n",
        "    print(\"# 입력 점수 오류 --> 확인 후 재입력\")\n",
        "\n",
        "\n",
        "while True:\n",
        "    try:\n",
        "        py = input(\"파이썬 성적을 입력하세요 : \")\n",
        "        en = input(\"영어 성적을 입력하세요 : \")\n",
        "        ma = input(\"수학 성적을 입력하세요 : \")\n",
        "        ph = input(\"물리 성적을 입력하세요 : \")\n",
        "        result_py = int(py)\n",
        "        result_en = int(en)\n",
        "        result_ma = int(ma)\n",
        "        result_ph = int(ph)\n",
        "\n",
        "\n",
        "        if (0 < result_py <=100) and ( 0< result_en <=100) and (0< result_ma <=100) and (0< result_ph <=100):\n",
        "            ok(result_py, result_en, result_ma, result_ph)\n",
        "            break\n",
        "\n",
        "        else: # 범위 밖의 경우 오류 출력\n",
        "            no(py, en, ma, ph)\n",
        "            \n",
        "    except ValueError: #문자가 입력된 경우 오류 출력\n",
        "        no(py, en, ma, ph)        "
      ],
      "execution_count": 1,
      "outputs": [
        {
          "output_type": "stream",
          "text": [
            "파이썬 성적을 입력하세요 : 91\n",
            "영어 성적을 입력하세요 : 67\n",
            "수학 성적을 입력하세요 : 88\n",
            "물리 성적을 입력하세요 : 75\n",
            " \n",
            "************************\n",
            "# 입력과목 성적\n",
            " \n",
            " - 파이썬 성적 :  91\n",
            " - 영어 성적 :  67\n",
            " - 수학 성적 :  88\n",
            " - 물리 성적 :  75\n",
            "************************\n",
            " \n",
            "************************\n",
            "# 결과\n",
            " - 총점 :  321\n",
            " - 평균 :  80.25\n",
            "************************\n"
          ],
          "name": "stdout"
        }
      ]
    },
    {
      "cell_type": "code",
      "metadata": {
        "colab": {
          "base_uri": "https://localhost:8080/"
        },
        "id": "CMaynycr0DLR",
        "outputId": "962205b2-2790-466f-f1cd-93e7c3b5553f"
      },
      "source": [
        "# [Q7] code-5\n",
        "# enumerate() 사용\n",
        "\n",
        "sum = 0\n",
        "subjects = subjects = ['파이썬', '영어', '수학', '물리']\n",
        "scores = [91, 67, 88, 75]\n",
        "for subject,score in enumerate(scores):\n",
        "\n",
        "    sum += scores[subject]\n",
        "    print(subjects[subject],score)\n",
        "    \n",
        "average = (sum/len(scores))\n",
        "\n",
        "print(\"평균 점수는 %f 입니다.\" %average)"
      ],
      "execution_count": 4,
      "outputs": [
        {
          "output_type": "stream",
          "text": [
            "파이썬 91\n",
            "영어 67\n",
            "수학 88\n",
            "물리 75\n",
            "평균 점수는 80.250000 입니다.\n"
          ],
          "name": "stdout"
        }
      ]
    },
    {
      "cell_type": "code",
      "metadata": {
        "colab": {
          "base_uri": "https://localhost:8080/"
        },
        "id": "i4GK5rac00MU",
        "outputId": "64dfbf36-b320-405d-a71b-6d665e017845"
      },
      "source": [
        "# [Q7] code-6\n",
        "# zip 활용\n",
        "\n",
        "subjects = ['파이썬', '영어', '수학', '물리']\n",
        "scores = [91, 67, 88, 75]\n",
        "\n",
        "average = 0\n",
        "sum = 0\n",
        "for subject, score in zip(subjects, scores):\n",
        "  sum += score\n",
        "  print(subject, score)\n",
        "\n",
        "print(\"평균점수는 {}\".format(sum/len(subjects)))"
      ],
      "execution_count": 5,
      "outputs": [
        {
          "output_type": "stream",
          "text": [
            "파이썬 91\n",
            "영어 67\n",
            "수학 88\n",
            "물리 75\n",
            "평균점수는 80.25\n"
          ],
          "name": "stdout"
        }
      ]
    },
    {
      "cell_type": "markdown",
      "metadata": {
        "id": "2ljBDShkbqZO"
      },
      "source": [
        "## 코딩 연습 결과를 github에 올리기\n",
        "> 완성된 ipython 노트북 파일을 각자의 github에 올리시오.\n",
        "\n",
        "- github 계정 만들기 (계정이 없는 학생)\n",
        "    1. github에 sign up (Google gmail 계정을 이용해서 만드시오.)\n",
        "- github에 노트 올리기\n",
        "    2. github에 각자의 id로 repo를 만드시오. (한번 만들면 계속 재사용)\n",
        "    3. **github repo의 ch3 폴더에 연습문제 풀이 결과 노트를 올리시오.**\n",
        "        - **제출노트: ch3-exercises-id.ipynb**\n"
      ]
    },
    {
      "cell_type": "code",
      "metadata": {
        "id": "OnCR-YNCc8B6"
      },
      "source": [
        ""
      ],
      "execution_count": null,
      "outputs": []
    }
  ]
}