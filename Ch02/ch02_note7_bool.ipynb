{
 "metadata": {
  "language_info": {
   "codemirror_mode": {
    "name": "ipython",
    "version": 3
   },
   "file_extension": ".py",
   "mimetype": "text/x-python",
   "name": "python",
   "nbconvert_exporter": "python",
   "pygments_lexer": "ipython3",
   "version": "3.8.5-final"
  },
  "orig_nbformat": 2,
  "kernelspec": {
   "name": "python385jvsc74a57bd02535acf53b01e00142262374579c8f9b4bb34c4703926709d17590f5c35ce7fb",
   "display_name": "Python 3.8.5 64-bit (conda)"
  }
 },
 "nbformat": 4,
 "nbformat_minor": 2,
 "cells": [
  {
   "source": [
    "# PA09 ch02_note7_bool"
   ],
   "cell_type": "markdown",
   "metadata": {}
  },
  {
   "source": [
    "## 불: 불 자료형이란?"
   ],
   "cell_type": "markdown",
   "metadata": {}
  },
  {
   "source": [
    "### 불(bool) 자료형이란 참(True)과 거짓(False)을 나타내는 자료형이다.\n",
    "### 불 자료형은 다음 2가지 값만을 가질 수 있다.\n",
    "### True - 참\n",
    "### False - 거짓\n",
    "### True나 False는 파이썬의 예약어로 true, false와 같이 사용하지 말고\n",
    "### 첫 문자를 항상 대문자로 사용해야 한다."
   ],
   "cell_type": "markdown",
   "metadata": {}
  },
  {
   "cell_type": "code",
   "execution_count": 5,
   "metadata": {},
   "outputs": [
    {
     "output_type": "execute_result",
     "data": {
      "text/plain": [
       "(bool, bool)"
      ]
     },
     "metadata": {},
     "execution_count": 5
    }
   ],
   "source": [
    "a = True\n",
    "b = False\n",
    "type(a), type(b)"
   ]
  },
  {
   "source": [
    "### 참과 거짓"
   ],
   "cell_type": "markdown",
   "metadata": {}
  },
  {
   "cell_type": "code",
   "execution_count": 12,
   "metadata": {},
   "outputs": [
    {
     "output_type": "stream",
     "name": "stdout",
     "text": [
      "True\nTrue\nFalse\n2\n1\n"
     ]
    }
   ],
   "source": [
    "print(1 == 1)\n",
    "print(2 > 1)\n",
    "print(2 < 1)\n",
    "print(True + 1) # true 일 경우 값은 1\n",
    "print(False + 1) # false 일 경우 값은 0"
   ]
  },
  {
   "source": [
    "### 자료형의 참과 거짓"
   ],
   "cell_type": "markdown",
   "metadata": {}
  },
  {
   "cell_type": "code",
   "execution_count": 17,
   "metadata": {},
   "outputs": [
    {
     "output_type": "stream",
     "name": "stdout",
     "text": [
      "True\nFalse\nTrue\nTrue\nFalse\nFalse\nFalse\nTrue\nFalse\nFalse\n"
     ]
    }
   ],
   "source": [
    "print(bool(\"python\"))\n",
    "print(bool(\"\"))\n",
    "print(bool([1, 2, 3]))\n",
    "print(bool([2, 3]))\n",
    "print(bool([]))\n",
    "print(bool(()))\n",
    "print(bool({}))\n",
    "print(bool(1))\n",
    "print(bool(0))\n",
    "print(bool(None))"
   ]
  },
  {
   "source": [
    "### 불 값을 이용한 코드"
   ],
   "cell_type": "markdown",
   "metadata": {}
  },
  {
   "cell_type": "code",
   "execution_count": 25,
   "metadata": {},
   "outputs": [
    {
     "output_type": "stream",
     "name": "stdout",
     "text": [
      "4\n3\n2\n1\n거짓\n"
     ]
    }
   ],
   "source": [
    "#\n",
    "a = [1, 2, 3, 4]\n",
    "#\n",
    "while a:           \n",
    "    print(a.pop())\n",
    "if []:\n",
    "    print(\"참\")\n",
    "else:\n",
    "    print(\"거짓\")"
   ]
  },
  {
   "cell_type": "code",
   "execution_count": 26,
   "metadata": {},
   "outputs": [],
   "source": [
    "#  Representation error\n",
    "## double precision representation of floating-point numbers"
   ]
  },
  {
   "cell_type": "code",
   "execution_count": 31,
   "metadata": {},
   "outputs": [
    {
     "output_type": "stream",
     "name": "stdout",
     "text": [
      "0.09999999999999998\nFalse\n8.603600000000001010036498883\n8.604\n"
     ]
    }
   ],
   "source": [
    "print(1-0.9)\n",
    "# 0.09999999999999998\n",
    "print(1-0.9==.1)\n",
    "# False\n",
    "\n",
    "#####\n",
    "import decimal\n",
    "x=decimal.Decimal(3.14)\n",
    "y=decimal.Decimal(2.74)\n",
    "x,y\n",
    "\n",
    "print(x*y)\n",
    "# Decimal('8.603600000000001010036498883')\n",
    "decimal.getcontext().prec=4\n",
    "print(x*y)\n",
    "# Decimal('8.604')"
   ]
  }
 ]
}