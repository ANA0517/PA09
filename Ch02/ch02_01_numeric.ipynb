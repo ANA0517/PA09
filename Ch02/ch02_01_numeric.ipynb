{
 "metadata": {
  "language_info": {
   "codemirror_mode": {
    "name": "ipython",
    "version": 3
   },
   "file_extension": ".py",
   "mimetype": "text/x-python",
   "name": "python",
   "nbconvert_exporter": "python",
   "pygments_lexer": "ipython3",
   "version": "3.9.1-final"
  },
  "orig_nbformat": 2,
  "kernelspec": {
   "name": "python3",
   "display_name": "Python 3.9.1 64-bit",
   "metadata": {
    "interpreter": {
     "hash": "2a47fc147fc7981e19316bc4decf18b31d82a71a0921c938a97c43515811338a"
    }
   }
  }
 },
 "nbformat": 4,
 "nbformat_minor": 2,
 "cells": [
  {
   "source": [
    "# PA09 CH02_01"
   ],
   "cell_type": "markdown",
   "metadata": {}
  },
  {
   "source": [
    "## 정수 숫자형"
   ],
   "cell_type": "markdown",
   "metadata": {}
  },
  {
   "cell_type": "code",
   "execution_count": 1,
   "metadata": {},
   "outputs": [
    {
     "output_type": "stream",
     "name": "stdout",
     "text": [
      "숫자형: 정수\n"
     ]
    }
   ],
   "source": [
    "print(\"숫자형: 정수\")\n",
    "a = 123\n",
    "a = -178\n",
    "a = 0"
   ]
  },
  {
   "source": [
    "## 실수 숫자형"
   ],
   "cell_type": "markdown",
   "metadata": {}
  },
  {
   "cell_type": "code",
   "execution_count": 2,
   "metadata": {},
   "outputs": [
    {
     "output_type": "stream",
     "name": "stdout",
     "text": [
      "숫자형: 실수\n"
     ]
    }
   ],
   "source": [
    "print(\"숫자형: 실수\")\n",
    "a = 1,2\n",
    "a = -3.48\n",
    "a = 4.24e10\n",
    "a = 4.24e-10"
   ]
  },
  {
   "source": [
    "## 숫자형 8진수와 16진수"
   ],
   "cell_type": "markdown",
   "metadata": {}
  },
  {
   "cell_type": "code",
   "execution_count": 4,
   "metadata": {},
   "outputs": [
    {
     "output_type": "execute_result",
     "data": {
      "text/plain": [
       "2748"
      ]
     },
     "metadata": {},
     "execution_count": 4
    }
   ],
   "source": [
    "a = 0o177\n",
    "a\n",
    "a = 0x8FF\n",
    "a\n",
    "a = 0xABC\n",
    "a"
   ]
  },
  {
   "source": [
    "## 연산자와 연산"
   ],
   "cell_type": "markdown",
   "metadata": {}
  },
  {
   "cell_type": "code",
   "execution_count": 5,
   "metadata": {},
   "outputs": [
    {
     "output_type": "execute_result",
     "data": {
      "text/plain": [
       "0"
      ]
     },
     "metadata": {},
     "execution_count": 5
    }
   ],
   "source": [
    "a = 3\n",
    "b = 4\n",
    "a + b\n",
    "a * b\n",
    "a / b\n",
    "a ** b\n",
    "a % b\n",
    "a // b"
   ]
  },
  {
   "source": [
    "## 나누기와 나머지"
   ],
   "cell_type": "markdown",
   "metadata": {}
  },
  {
   "cell_type": "code",
   "execution_count": 6,
   "metadata": {},
   "outputs": [
    {
     "output_type": "execute_result",
     "data": {
      "text/plain": [
       "2"
      ]
     },
     "metadata": {},
     "execution_count": 6
    }
   ],
   "source": [
    "14 // 3\n",
    "14 % 3"
   ]
  }
 ]
}